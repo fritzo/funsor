{
 "cells": [
  {
   "cell_type": "markdown",
   "metadata": {},
   "source": [
    "# Tracking Sensor Bias\n",
    "\n",
    "We want to compute the joint posterior over sensors' biases in a 2-D tracking setting."
   ]
  },
  {
   "cell_type": "code",
   "execution_count": 1,
   "metadata": {},
   "outputs": [],
   "source": [
    "from collections import OrderedDict\n",
    "\n",
    "import torch\n",
    "import torch.nn as nn\n",
    "from torch.optim import Adam\n",
    "\n",
    "import pyro\n",
    "import pyro.distributions as dist\n",
    "\n",
    "import funsor\n",
    "import funsor.pyro\n",
    "import funsor.distributions as f_dist\n",
    "import funsor.ops as ops\n",
    "from funsor.pyro.convert import dist_to_funsor, mvn_to_funsor, matrix_and_mvn_to_funsor, tensor_to_funsor\n",
    "from funsor.interpreter import interpretation, reinterpret\n",
    "from funsor.optimizer import apply_optimizer\n",
    "from funsor.terms import lazy, eager_or_die, eager\n",
    "from funsor.domains import bint, reals\n",
    "from funsor.torch import Tensor, Variable\n",
    "from funsor.gaussian import Gaussian\n",
    "from funsor.sum_product import sequential_sum_product\n",
    "\n",
    "import matplotlib.pyplot as plt"
   ]
  },
  {
   "cell_type": "markdown",
   "metadata": {},
   "source": [
    "Simulate some synthetic data:"
   ]
  },
  {
   "cell_type": "code",
   "execution_count": 2,
   "metadata": {},
   "outputs": [],
   "source": [
    "num_sensors = 5\n",
    "num_frames = 100\n",
    "\n",
    "# simulate biased sensors\n",
    "sensors  = []\n",
    "for _ in range(num_sensors):\n",
    "    bias = 0.5 * torch.randn(2)\n",
    "    sensors.append(bias)\n",
    "\n",
    "# simulate a single track\n",
    "# TODO heterogeneous time\n",
    "partial_obs = []\n",
    "z = 10 * torch.rand(2)  # initial state\n",
    "v = 2 * torch.randn(2)  # velocity\n",
    "for t in range(num_frames):\n",
    "    # Advance latent state.\n",
    "    z += v + 0.1 * torch.randn(2)\n",
    "#     z.clamp_(min=0, max=10)  # keep in the box\n",
    "    \n",
    "    # Observe via a random sensor.\n",
    "    sensor_id = pyro.sample('id', dist.Categorical(torch.ones(num_sensors)))\n",
    "    x = z - sensors[sensor_id]\n",
    "    partial_obs.append({\"sensor_id\": sensor_id, \"x\": x})\n",
    "    \n",
    "    \n",
    "# simulate all sensor observations\n",
    "full_observations = []\n",
    "z = 10 * torch.rand(2)  # initial state\n",
    "v = torch.randn(2)  # velocity\n",
    "for t in range(num_frames):\n",
    "    # Advance latent state.\n",
    "    z += v + 0.1 * torch.randn(2)\n",
    "    x = z.expand([num_sensors, 2]) - torch.stack(sensors)\n",
    "    full_observations.append(x)\n",
    "full_observations = torch.stack(full_observations)\n",
    "assert full_observations.shape == (num_frames, num_sensors, 2)\n",
    "full_observations = Tensor(full_observations)[\"time\"]"
   ]
  },
  {
   "cell_type": "markdown",
   "metadata": {},
   "source": [
    "Now let's set up a tracking problem in Funsor. We start by modeling the biases of each sensor."
   ]
  },
  {
   "cell_type": "code",
   "execution_count": 3,
   "metadata": {
    "scrolled": true
   },
   "outputs": [],
   "source": [
    "# TODO transform this to cholesky decomposition\n",
    "# print(bias_cov.shape)\n",
    "# bias_cov = bias_cov @ bias_cov.t()\n",
    "# create a joint Gaussian over biases\n",
    "\n",
    "# covs = [torch.eye(2, requires_grad=True) for i in range(num_sensors)]\n",
    "# bias_dist = 0.\n",
    "# for i in range(num_sensors):\n",
    "#     bias += funsor.pyro.convert.mvn_to_funsor(\n",
    "#         dist.MultivariateNormal(torch.zeros(2), covs[i]),\n",
    "# #         event_dims=(\"pos\",),\n",
    "# #         real_inputs=OrderedDict([(\"bias_{}\".format(i), reals(2))])\n",
    "#         real_inputs=OrderedDict([(\"bias\", reals(2))])\n",
    "#     )(value=\"bias_{}\".format(i))\n",
    "# bias_dist.__dict__\n",
    "\n",
    "# we can't write bias_dist as a sum of mvns because affine transformation\n",
    "# of mvns is not supported yet.  instead we will combine all the sensors\n",
    "# into a giant tensor\n",
    "bias_scales = torch.ones(2, requires_grad=True)  # This can be learned\n",
    "\n",
    "# bias_dist = funsor.pyro.convert.mvn_to_funsor(\n",
    "#     dist.MultivariateNormal(\n",
    "#         torch.zeros(num_sensors * 2),\n",
    "#         bias_scales.expand(num_sensors, 2).reshape(-1).diag_embed()\n",
    "#     ),\n",
    "#     real_inputs=OrderedDict([(\"bias\", reals(num_sensors, 2))])\n",
    "# )\n",
    "# bias_dist.__dict__"
   ]
  },
  {
   "cell_type": "markdown",
   "metadata": {},
   "source": [
    "Set up the filter in funsor."
   ]
  },
  {
   "cell_type": "code",
   "execution_count": 4,
   "metadata": {},
   "outputs": [],
   "source": [
    "# TODO\n",
    "# this can be parameterized by a lower dimensional vector \n",
    "# to learn a structured transition matrix\n",
    "# eg a GP with a matern v=3/2 kernel\n",
    "# see paper for details \n",
    "\n",
    "# transition matrix from discretization as in \n",
    "# http://webee.technion.ac.il/people/shimkin/Estimation09/ch8_target.pdf\n",
    "# T = 1.  # timestep\n",
    "# trans_matrix_noise = torch.randn(1)  # this could be learnable\n",
    "# trans_dist_cov = torch.tensor([[1./3 * T ** 3, 0.5 * T ** 2],\n",
    "#                                   [0.5 * T ** 2, T]]) * trans_matrix_noise ** 2\n",
    "# transition_matrix = torch.randn(2, 2, requires_grad=True)\n",
    "# transition_matrix = torch.tensor([[1., T],\n",
    "#                                   [0, 1]])\n",
    "# state_dim = 10\n",
    "# obs_noise = torch.eye(10, 10) #+ 0.1 * torch.randn(10, 10)\n",
    "# trans_noise = torch.eye(state_dim) #+ 0.1 * torch.randn(state_dim)\n",
    "# obs_noise.requires_grad = True\n",
    "# trans_noise.requires_grad = True"
   ]
  },
  {
   "cell_type": "code",
   "execution_count": 5,
   "metadata": {},
   "outputs": [],
   "source": [
    "# class HMM_that_would_work_if_we_had_more_patterns(nn.Module):\n",
    "#     def __init__(self, num_sensors, track):\n",
    "#         self.num_sensors = num_sensors\n",
    "#         bias_dist = funsor.pyro.convert.mvn_to_funsor(\n",
    "#             dist.MultivariateNormal(\n",
    "#                 torch.zeros(num_sensors * 2),\n",
    "#                 bias_scales.expand(num_sensors, 2).reshape(-1).diag_embed()\n",
    "#             ),\n",
    "#             real_inputs=OrderedDict([(\"bias\", reals(num_sensors * 2))])\n",
    "#         )\n",
    "#         init_dist = torch.distributions.MultivariateNormal(torch.zeros(2), torch.eye(2))\n",
    "#         transition_dist = torch.distributions.MultivariateNormal(\n",
    "#             torch.zeros(2), trans_dist_cov)\n",
    "#         observation_matrix = torch.eye(2) + 0.2 * torch.randn(2, 2)\n",
    "#         observation_matrix = (observation_matrix.unsqueeze(1)\n",
    "#                                                 .expand(2, num_sensors, 2)\n",
    "#                                                 .reshape(2, num_sensors * 2))\n",
    "#         # this is the bias for all the sensors\n",
    "#         # Note sensor_ids is no longer needed because every sensor.\n",
    "#         # sensor_ids = torch.tensor([frame[\"sensor_id\"] for frame in track])\n",
    "#         bias = torch.zeros(num_sensors, 2, requires_grad=True)\n",
    "#         # obs_dist will be flattened out\n",
    "#         observation_dist = torch.distributions.MultivariateNormal(\n",
    "#             bias.reshape(num_sensors * 2),\n",
    "#             torch.eye(num_sensors * 2))\n",
    "\n",
    "#         self.init = dist_to_funsor(init_dist)(value=\"state\")\n",
    "#         # inputs are the previous state ``state`` and the next state\n",
    "#         transition_matrix = torch.randn(2, 2, requires_grad=True)\n",
    "#         self.trans = matrix_and_mvn_to_funsor(transition_matrix, transition_dist,\n",
    "#                                               (\"time\",), \"state\", \"state(time=1)\")\n",
    "#         self.obs = matrix_and_mvn_to_funsor(observation_matrix, observation_dist,\n",
    "#                                             (\"time\",), \"state(time=1)\", \"value\")\n",
    "#         super(HMM, self).__init__()\n",
    "    \n",
    "#     def forward(self, track):\n",
    "#         # we add bias to the observation as a global variable\n",
    "#         # single interleaved track\n",
    "#         # we expand the data which will be properly indexed by obs\n",
    "#         data = torch.stack([frame[\"x\"] for frame in track])\n",
    "#         data = Tensor(data.unsqueeze(1)\n",
    "#                           .expand(-1, self.num_sensors, 2)\n",
    "#                           .reshape(-1, self.num_sensors * 2),\n",
    "#                       OrderedDict(time=bint(len(track))))\n",
    "# #         print(f\"data.output = {data.output}\")\n",
    "\n",
    "#         # incorporate sensor id in the observation by creating\n",
    "#         # a free variable that has the signature\n",
    "#         # inputs: bias of shape (num_sensors, 2), sensor_ids\n",
    "#         # outputs shape 2\n",
    "#         # This is like a delayed sample statement:\n",
    "#         #  bias = pyro.sample(\"bias\", bias_dist)\n",
    "#         bias = Variable(\"bias\", reals(num_sensors * 2))\n",
    "#         debiased_observations = data + bias\n",
    "#         # this indexing pattern is not implemented to sub into a Gaussian\n",
    "#         # https://github.com/pyro-ppl/funsor/pull/220\n",
    "#         # instead, we can use matrix_and_mvn_to_funsor and index  the proper latents and just \n",
    "#         # observe naively\n",
    "\n",
    "#         with interpretation(eager_or_die):\n",
    "# #             print(f\"obs.inputs['value'] = {self.obs.inputs['value']}\")\n",
    "#             obs = self.obs(value=debiased_observations)\n",
    "\n",
    "#             logp = self.trans + obs + bias_dist\n",
    "        \n",
    "#             # collapse out the time variable\n",
    "#             # TODO this can only handle homogeneous funsor types\n",
    "#             logp = sequential_sum_product(ops.logaddexp, ops.add,\n",
    "#                                           logp, \"time\", {\"state\": \"state(time=1)\"})\n",
    "#             logp += init\n",
    "#             # marginalize out remaining latent variables\n",
    "#             logp = logp.reduce(ops.logaddexp)\n",
    "            \n",
    "#         # extract torch.Tensor from funsor\n",
    "#         assert isinstance(logp, Tensor), logp.pretty()\n",
    "#         return logp.data"
   ]
  },
  {
   "cell_type": "code",
   "execution_count": 6,
   "metadata": {},
   "outputs": [],
   "source": [
    "# class HMM_interleaved_track(nn.Module):\n",
    "#     def __init__(self, num_sensors):\n",
    "#         super(HMM, self).__init__()\n",
    "#         self.num_sensors = num_sensors\n",
    "        \n",
    "#     def forward(self, track):\n",
    "#         num_sensors = self.num_sensors\n",
    "        \n",
    "#         bias_dist = funsor.pyro.convert.mvn_to_funsor(\n",
    "#             dist.MultivariateNormal(\n",
    "#                 torch.zeros(2),\n",
    "#                 bias_scales.diag_embed()\n",
    "#             ),\n",
    "#             real_inputs=OrderedDict([(\"bias\", reals(num_sensors * 2))])\n",
    "#         )\n",
    "#         init_dist = torch.distributions.MultivariateNormal(torch.zeros(2), torch.eye(2))\n",
    "#         transition_dist = torch.distributions.MultivariateNormal(\n",
    "#             torch.zeros(2), trans_dist_cov)\n",
    "#         observation_matrix = torch.eye(2) + 0.2 * torch.randn(2, 2)\n",
    "#         # this is the bias for all the sensors\n",
    "#         # Note sensor_ids is no longer needed because every sensor is observed\n",
    "#         sensor_ids = torch.tensor([frame[\"sensor_id\"] for frame in track])\n",
    "#         bias = torch.zeros(num_sensors, 2, requires_grad=True)[sensor_ids]\n",
    "#         # obs_dist will be flattened out\n",
    "#         observation_dist = torch.distributions.MultivariateNormal(\n",
    "#             bias,\n",
    "#             torch.eye(num_sensors * 2))\n",
    "\n",
    "#         self.init = dist_to_funsor(init_dist)(value=\"state\")\n",
    "#         # inputs are the previous state ``state`` and the next state\n",
    "#         transition_matrix = torch.randn(2, 2, requires_grad=True)\n",
    "#         self.trans = matrix_and_mvn_to_funsor(transition_matrix, transition_dist,\n",
    "#                                               (\"time\",), \"state\", \"state(time=1)\")\n",
    "        \n",
    "#         # This is what we want\n",
    "#         # self.obs = matrix_and_mvn_to_funsor(observation_matrix, observation_dist,\n",
    "#         #                                     (\"time\",), \"state(time=1)\", \"value\")\n",
    "#         # but instead we will manually insert a bias term into obs.\n",
    "#         bias_matrix = torch.eye(num_sensors * 2)\n",
    "#         obs_and_bias_matrix = torch.cat((observation_matrix, bias_matrix))\n",
    "#         obs = matrix_and_mvn_to_funsor(obs_and_bias_matrix, observation_dist,\n",
    "#                                        (\"time\",), \"state_and_bias\", \"value\")\n",
    "        \n",
    "#         # HACK to replace state_and_bias with two variables.\n",
    "#         assert (not obs.deltas and\n",
    "#                 isinstance(obs.discrete, Tensor) and\n",
    "#                 isinstance(obs.gaussian, Gaussian))\n",
    "#         inputs = OrderedDict()\n",
    "#         for k, d in obs.gaussian.inputs.items():\n",
    "#           if k == \"state_and_bias\":\n",
    "#             assert d == reals(2 + num_sensors * 2), d\n",
    "#             inputs[\"state(time=1)\"] = reals(2)\n",
    "#             inputs[\"bias\"] = reals(num_sensors * 2)\n",
    "#           else:\n",
    "#             inputs[k] = d\n",
    "#         g = obs.gaussian\n",
    "#         self.obs = obs.discrete + Gaussian(g.info_vec, g.precision, inputs)\n",
    "    \n",
    "#         # we add bias to the observation as a global variable\n",
    "#         data = torch.stack([frame[\"x\"] for frame in track])\n",
    "#         assert isinstance(track, list)\n",
    "#         data = Tensor(data.unsqueeze(1)\n",
    "#                           .expand(-1, self.num_sensors, 2)\n",
    "#                           .reshape(-1, self.num_sensors * 2),\n",
    "#                       OrderedDict(time=bint(len(track))))\n",
    "\n",
    "\n",
    "#         with interpretation(eager_or_die):\n",
    "#             logp = self.obs(value=data)\n",
    "#             logp += bias_dist + self.trans\n",
    "        \n",
    "#             # collapse out the time variable\n",
    "#             # TODO this can only handle homogeneous funsor types\n",
    "#             logp = sequential_sum_product(ops.logaddexp, ops.add,\n",
    "#                                           logp, \"time\", {\"state\": \"state(time=1)\"})\n",
    "#             logp += self.init\n",
    "#             # marginalize out remaining latent variables\n",
    "#             logp = logp.reduce(ops.logaddexp)\n",
    "            \n",
    "#         # extract torch.Tensor from funsor\n",
    "#         assert isinstance(logp, Tensor), logp.pretty()\n",
    "#         return logp.data"
   ]
  },
  {
   "cell_type": "code",
   "execution_count": 7,
   "metadata": {},
   "outputs": [],
   "source": [
    "# class HMM_without_affine(nn.Module):\n",
    "#     def __init__(self, num_sensors):\n",
    "#         super(HMM_without_affine, self).__init__()\n",
    "#         self.num_sensors = num_sensors\n",
    "        \n",
    "#     def forward(self, track):\n",
    "#         num_sensors = self.num_sensors\n",
    "        \n",
    "#         bias_dist = funsor.pyro.convert.mvn_to_funsor(\n",
    "#             dist.MultivariateNormal(\n",
    "#                 torch.zeros(num_sensors * 2),\n",
    "#                 bias_scales.expand(num_sensors, 2).reshape(-1).diag_embed()\n",
    "#             ),\n",
    "#             real_inputs=OrderedDict([(\"bias\", reals(num_sensors * 2))])\n",
    "#         )\n",
    "#         init_dist = torch.distributions.MultivariateNormal(torch.zeros(2), torch.eye(2))\n",
    "#         transition_dist = torch.distributions.MultivariateNormal(\n",
    "#             torch.zeros(2), trans_dist_cov)\n",
    "#         observation_matrix = torch.eye(2) + 0.2 * torch.randn(2, 2)\n",
    "#         observation_matrix = (observation_matrix.unsqueeze(1)\n",
    "#                                                 .expand(2, num_sensors, 2)\n",
    "#                                                 .reshape(2, num_sensors * 2))\n",
    "#         # this is the bias for all the sensors\n",
    "#         # Note sensor_ids is no longer needed because every sensor is observed\n",
    "#         # sensor_ids = torch.tensor([frame[\"sensor_id\"] for frame in track])\n",
    "#         bias = torch.zeros(num_sensors * 2, requires_grad=True)\n",
    "#         # obs_dist will be flattened out\n",
    "#         observation_dist = torch.distributions.MultivariateNormal(\n",
    "#             bias,\n",
    "#             torch.eye(num_sensors * 2))\n",
    "\n",
    "#         self.init = dist_to_funsor(init_dist)(value=\"state\")\n",
    "#         # inputs are the previous state ``state`` and the next state\n",
    "#         transition_matrix = torch.randn(2, 2, requires_grad=True)\n",
    "#         self.trans = matrix_and_mvn_to_funsor(transition_matrix, transition_dist,\n",
    "#                                               (\"time\",), \"state\", \"state(time=1)\")\n",
    "        \n",
    "#         # This is what we want\n",
    "#         # self.obs = matrix_and_mvn_to_funsor(observation_matrix, observation_dist,\n",
    "#         #                                     (\"time\",), \"state(time=1)\", \"value\")\n",
    "#         # but instead we will manually insert a bias term into obs.\n",
    "#         bias_matrix = torch.eye(num_sensors * 2)\n",
    "#         obs_and_bias_matrix = torch.cat((observation_matrix, bias_matrix))\n",
    "#         obs = matrix_and_mvn_to_funsor(obs_and_bias_matrix, observation_dist,\n",
    "#                                        (\"time\",), \"state_and_bias\", \"value\")\n",
    "        \n",
    "#         # HACK to replace state_and_bias with two variables.\n",
    "# #         assert (not obs.deltas and\n",
    "# #                 isinstance(obs.discrete, Tensor) and\n",
    "# #                 isinstance(obs.gaussian, Gaussian))\n",
    "#         inputs = OrderedDict()\n",
    "#         for k, d in obs.gaussian.inputs.items():\n",
    "#           if k == \"state_and_bias\":\n",
    "#             assert d == reals(2 + num_sensors * 2), d\n",
    "#             inputs[\"state(time=1)\"] = reals(2)\n",
    "#             inputs[\"bias\"] = reals(num_sensors * 2)\n",
    "#           else:\n",
    "#             inputs[k] = d\n",
    "#         g = obs.gaussian\n",
    "#         self.obs = obs.discrete + Gaussian(g.info_vec, g.precision, inputs)\n",
    "    \n",
    "#         # we add bias to the observation as a global variable\n",
    "# #         data = torch.stack([frame[\"x\"] for frame in track])\n",
    "# #         data = Tensor(data.unsqueeze(1)\n",
    "# #                           .expand(-1, self.num_sensors, 2)\n",
    "# #                           .reshape(-1, self.num_sensors * 2),\n",
    "# #                       OrderedDict(time=bint(len(track))))\n",
    "#         assert isinstance(track, Tensor)\n",
    "#         data = Tensor(track.data.reshape(-1, self.num_sensors * 2),\n",
    "#                       OrderedDict(time=bint(len(track.data))))\n",
    "\n",
    "#         with interpretation(eager_or_die):\n",
    "#             logp = self.obs(value=data)\n",
    "#             logp += bias_dist + self.trans\n",
    "        \n",
    "#             # collapse out the time variable\n",
    "#             # TODO this can only handle homogeneous funsor types\n",
    "#             logp = sequential_sum_product(ops.logaddexp, ops.add,\n",
    "#                                           logp, \"time\", {\"state\": \"state(time=1)\"})\n",
    "#             logp += self.init\n",
    "#             # marginalize out remaining latent variables\n",
    "#             logp = logp.reduce(ops.logaddexp)\n",
    "            \n",
    "#         # extract torch.Tensor from funsor\n",
    "#         assert isinstance(logp, Tensor), logp.pretty()\n",
    "#         return logp.data"
   ]
  },
  {
   "cell_type": "code",
   "execution_count": 26,
   "metadata": {},
   "outputs": [],
   "source": [
    "class HMM(nn.Module):\n",
    "    def __init__(self, num_sensors, state_dim):\n",
    "        super(HMM, self).__init__()\n",
    "        self.num_sensors = num_sensors\n",
    "        self.state_dim = state_dim\n",
    "        \n",
    "        # learnable params\n",
    "        self.bias_scales = bias_scales = nn.Parameter(torch.ones(2))\n",
    "        obs_noise = torch.eye(10, 10) + 0.1 * torch.randn(10, 10)\n",
    "        self.trans_noise = nn.Parameter(torch.eye(state_dim))\n",
    "        self.obs_noise = nn.Parameter(obs_noise)\n",
    "        \n",
    "    def forward(self, track):\n",
    "        num_sensors = self.num_sensors\n",
    "        state_dim = self.state_dim\n",
    "        \n",
    "        # reshape the data\n",
    "        assert isinstance(track, Tensor)\n",
    "        data = Tensor(track.data.reshape(-1, self.num_sensors * 2),\n",
    "                      OrderedDict(time=bint(len(track.data))))\n",
    "        \n",
    "        # bias distribution\n",
    "        bias = Variable('bias', reals(num_sensors * 2))\n",
    "        bias_dist = dist_to_funsor(\n",
    "            dist.MultivariateNormal(\n",
    "                torch.zeros(num_sensors * 2),\n",
    "                bias_scales.expand(num_sensors, 2).reshape(-1).diag_embed()\n",
    "            )\n",
    "        )(value=bias)\n",
    "        \n",
    "        # this needs to be a funsor dist\n",
    "        init_dist = torch.distributions.MultivariateNormal(torch.zeros(2), torch.eye(2) + 0.1 * torch.randn(2))\n",
    "        self.init = dist_to_funsor(init_dist)(value=\"state\")\n",
    "        \n",
    "        # hidden states\n",
    "        prev = Variable(\"prev\", reals(state_dim))\n",
    "        curr = Variable(\"curr\", reals(state_dim))\n",
    "        # inputs are the previous state ``state`` and the next state\n",
    "        transition_matrix = Tensor(torch.randn(state_dim, state_dim, requires_grad=True))\n",
    "#         transition_matrix = self.transition_matrix\n",
    "        self.trans_dist = f_dist.MultivariateNormal(\n",
    "            loc=Tensor(torch.randn(state_dim)),\n",
    "            scale_tril=Tensor(self.trans_noise),\n",
    "            value=curr - prev @ transition_matrix)\n",
    "        \n",
    "        \n",
    "        # observation\n",
    "        # free variables that have distributions over them\n",
    "        state = Variable('state', reals(state_dim))\n",
    "        obs = Variable(\"obs\", reals(10))\n",
    "        observation_matrix = Tensor(torch.randn(state_dim, 10))\n",
    "        self.observation_dist = f_dist.MultivariateNormal(\n",
    "            loc=Tensor(torch.zeros(10)),\n",
    "            scale_tril=Tensor(self.obs_noise),\n",
    "            value=state @ observation_matrix + bias - obs  # this takes us from state to biased obs\n",
    "        )\n",
    "\n",
    "        with interpretation(eager):\n",
    "            logp = bias_dist\n",
    "            logp += self.init\n",
    "            state_0 = Variable(\"state_0\", reals(state_dim))\n",
    "            # observation at t=0\n",
    "            logp += self.observation_dist(state=state_0, obs=data(time=0))\n",
    "            state_1 = Variable(\"state_1\", reals(state_dim))\n",
    "            # transition to state at t=1\n",
    "            logp += self.trans_dist(prev=state_0, curr=state_1)\n",
    "            # observation at t=1\n",
    "            logp += self.observation_dist(state=state_1, obs=data(time=1))\n",
    "            # marginalize out remaining latent variables\n",
    "            logp = logp.reduce(ops.logaddexp)\n",
    "            \n",
    "        # we should get a single scalar Tensor here\n",
    "        assert isinstance(logp, Tensor) and logp.data.dim() == 0, logp.pretty()\n",
    "        return logp.data\n",
    "    \n",
    "    def predict(self):\n",
    "        # filter and predict\n",
    "        return self.observation_dist()"
   ]
  },
  {
   "cell_type": "markdown",
   "metadata": {},
   "source": [
    "## Inference\n",
    "\n",
    "Finally we have a result that is a joint Gaussian over the biases.\n",
    "We can\n",
    "1. optimize all parameters to maximize `result`\n",
    "2. estimate the joint distribution over all bias parameters."
   ]
  },
  {
   "cell_type": "code",
   "execution_count": 28,
   "metadata": {
    "scrolled": false
   },
   "outputs": [
    {
     "name": "stdout",
     "output_type": "stream",
     "text": [
      "51.36785888671875\n",
      "55.43386459350586\n",
      "49.80632781982422\n",
      "45.355491638183594\n",
      "40.1198616027832\n",
      "42.19760513305664\n",
      "43.62836456298828\n",
      "43.64277267456055\n",
      "44.314109802246094\n",
      "42.20016860961914\n",
      "43.475685119628906\n",
      "41.069374084472656\n",
      "40.86189270019531\n",
      "38.72650909423828\n",
      "39.37371063232422\n",
      "40.39057159423828\n",
      "38.06660079956055\n",
      "39.591773986816406\n",
      "40.68220901489258\n",
      "37.05362319946289\n"
     ]
    }
   ],
   "source": [
    "num_epochs = 200\n",
    "# params = [bias_scales, obs_noise, trans_noise]\n",
    "model = HMM(num_sensors, num_sensors*2)\n",
    "params_snapshot = []\n",
    "losses = []\n",
    "mses = []\n",
    "optim = Adam(model.parameters(), lr=0.02)\n",
    "\n",
    "for i in range(num_epochs):\n",
    "    optim.zero_grad()\n",
    "    log_prob = model(full_observations)\n",
    "    loss = -log_prob\n",
    "    loss.backward()\n",
    "    losses.append(loss.item())\n",
    "    if i % 10 == 0:\n",
    "        params_snapshot.append(bias_scales.data.clone().cpu().numpy())\n",
    "        print(loss.item())\n",
    "        mse = full_observations - model.predict()\n",
    "        mses.append(mse)\n",
    "    optim.step()"
   ]
  },
  {
   "cell_type": "code",
   "execution_count": 19,
   "metadata": {},
   "outputs": [
    {
     "data": {
      "text/plain": [
       "[('trans_noise', Parameter containing:\n",
       "  tensor([[ 1.0351,  0.0000,  0.0000,  0.0000,  0.0000,  0.0000,  0.0000,  0.0000,\n",
       "            0.0000,  0.0000],\n",
       "          [ 0.0533,  0.9992,  0.0000,  0.0000,  0.0000,  0.0000,  0.0000,  0.0000,\n",
       "            0.0000,  0.0000],\n",
       "          [-0.0342, -0.0070,  0.8606,  0.0000,  0.0000,  0.0000,  0.0000,  0.0000,\n",
       "            0.0000,  0.0000],\n",
       "          [ 0.1808, -0.0830, -0.0285,  0.9917,  0.0000,  0.0000,  0.0000,  0.0000,\n",
       "            0.0000,  0.0000],\n",
       "          [ 0.0912, -0.1662,  0.1426,  0.0379,  1.0898,  0.0000,  0.0000,  0.0000,\n",
       "            0.0000,  0.0000],\n",
       "          [-0.1088,  0.1289,  0.0339,  0.0840,  0.0337,  0.6253,  0.0000,  0.0000,\n",
       "            0.0000,  0.0000],\n",
       "          [ 0.3536, -0.1452,  0.2360, -0.0265, -0.0633,  0.0511,  0.7981,  0.0000,\n",
       "            0.0000,  0.0000],\n",
       "          [ 0.2304, -0.0125, -0.0449, -0.1573, -0.0847, -0.0063,  0.1286,  0.7487,\n",
       "            0.0000,  0.0000],\n",
       "          [-0.1062,  0.0624, -0.0303, -0.0745,  0.1017, -0.0888, -0.0768, -0.0737,\n",
       "            0.7053,  0.0000],\n",
       "          [ 0.1169,  0.2189, -0.0143,  0.1510, -0.0824,  0.0286, -0.0827,  0.1059,\n",
       "           -0.0391,  0.9258]], requires_grad=True)),\n",
       " ('obs_noise', Parameter containing:\n",
       "  tensor([[ 2.1267,  0.1700, -0.0405, -0.0798, -0.0172, -0.0027, -0.1223,  0.0131,\n",
       "            0.0354,  0.1819],\n",
       "          [ 1.6953,  1.6530,  0.0619,  0.0794,  0.1200, -0.0600, -0.1345, -0.0194,\n",
       "           -0.1945, -0.1021],\n",
       "          [ 1.3727,  0.9168,  1.1730, -0.0178,  0.0219,  0.1474, -0.0839, -0.1236,\n",
       "            0.0787,  0.0178],\n",
       "          [ 1.2783,  1.1548,  0.8247,  1.0072, -0.0150, -0.0288,  0.0206,  0.0588,\n",
       "            0.1290,  0.0179],\n",
       "          [ 1.3263,  0.9025,  0.8853,  0.4781,  0.9632, -0.0890, -0.0239, -0.1334,\n",
       "           -0.0062,  0.0780],\n",
       "          [ 1.6904,  1.5193,  1.2272,  0.9177,  0.6855,  1.0903, -0.0550,  0.0167,\n",
       "           -0.0202,  0.0305],\n",
       "          [ 1.0987,  0.7029,  0.8479,  0.4168,  0.5646,  0.2551,  0.3276, -0.0165,\n",
       "            0.0037,  0.0234],\n",
       "          [ 1.5922,  1.3049,  1.0784,  0.8457,  0.6140,  0.6932,  0.2768,  0.7331,\n",
       "            0.0143, -0.1592],\n",
       "          [ 1.0517,  0.5903,  0.7702,  0.3558,  0.6313,  0.1879,  0.1995,  0.2001,\n",
       "            0.2756, -0.0092],\n",
       "          [ 1.4956,  1.4063,  0.9640,  0.8296,  0.6164,  0.7036,  0.1955,  0.3952,\n",
       "            0.0381,  0.2838]], requires_grad=True))]"
      ]
     },
     "execution_count": 19,
     "metadata": {},
     "output_type": "execute_result"
    }
   ],
   "source": [
    "list(model.named_parameters())"
   ]
  },
  {
   "cell_type": "code",
   "execution_count": 29,
   "metadata": {
    "scrolled": true
   },
   "outputs": [
    {
     "ename": "IndexError",
     "evalue": "list index out of range",
     "output_type": "error",
     "traceback": [
      "\u001b[0;31m---------------------------------------------------------------------------\u001b[0m",
      "\u001b[0;31mIndexError\u001b[0m                                Traceback (most recent call last)",
      "\u001b[0;32m<ipython-input-29-7141fe521f72>\u001b[0m in \u001b[0;36m<module>\u001b[0;34m\u001b[0m\n\u001b[0;32m----> 1\u001b[0;31m \u001b[0;34m[\u001b[0m\u001b[0mparams_snapshot\u001b[0m\u001b[0;34m[\u001b[0m\u001b[0mi\u001b[0m\u001b[0;34m]\u001b[0m \u001b[0;32mfor\u001b[0m \u001b[0mi\u001b[0m \u001b[0;32min\u001b[0m \u001b[0mrange\u001b[0m\u001b[0;34m(\u001b[0m\u001b[0;36m10\u001b[0m\u001b[0;34m)\u001b[0m\u001b[0;34m]\u001b[0m\u001b[0;34m\u001b[0m\u001b[0;34m\u001b[0m\u001b[0m\n\u001b[0m",
      "\u001b[0;32m<ipython-input-29-7141fe521f72>\u001b[0m in \u001b[0;36m<listcomp>\u001b[0;34m(.0)\u001b[0m\n\u001b[0;32m----> 1\u001b[0;31m \u001b[0;34m[\u001b[0m\u001b[0mparams_snapshot\u001b[0m\u001b[0;34m[\u001b[0m\u001b[0mi\u001b[0m\u001b[0;34m]\u001b[0m \u001b[0;32mfor\u001b[0m \u001b[0mi\u001b[0m \u001b[0;32min\u001b[0m \u001b[0mrange\u001b[0m\u001b[0;34m(\u001b[0m\u001b[0;36m10\u001b[0m\u001b[0;34m)\u001b[0m\u001b[0;34m]\u001b[0m\u001b[0;34m\u001b[0m\u001b[0;34m\u001b[0m\u001b[0m\n\u001b[0m",
      "\u001b[0;31mIndexError\u001b[0m: list index out of range"
     ]
    }
   ],
   "source": [
    "[params_snapshot[i] for i in range(10)]"
   ]
  },
  {
   "cell_type": "markdown",
   "metadata": {},
   "source": [
    "Visualize the joint posterior distribution."
   ]
  },
  {
   "cell_type": "markdown",
   "metadata": {},
   "source": [
    "### possible plots\n",
    "1. plot the MSE of the MAP estimates with and without bias (or table)\n",
    "2. train with and without marginalizing out bias, plot both loss curves\n",
    "  - plot nll and MSE at each epoch\n",
    "3. smoothing? would require adjoint algorithm `tests/test_adjoint.py`\n",
    "4. "
   ]
  },
  {
   "cell_type": "code",
   "execution_count": 30,
   "metadata": {},
   "outputs": [
    {
     "data": {
      "text/plain": [
       "Text(0.5, 0, 'logprob')"
      ]
     },
     "execution_count": 30,
     "metadata": {},
     "output_type": "execute_result"
    },
    {
     "data": {
      "image/png": "[encoded data removed]",
      "text/plain": [
       "<Figure size 1000x400 with 1 Axes>"
      ]
     },
     "metadata": {},
     "output_type": "display_data"
    }
   ],
   "source": [
    "plt.figure(figsize=(10,4), dpi=100).set_facecolor('white')\n",
    "plt.plot(losses)\n",
    "plt.title('log probability')\n",
    "plt.xlabel('Epochs')\n",
    "plt.xlabel('logprob')"
   ]
  },
  {
   "cell_type": "code",
   "execution_count": 12,
   "metadata": {},
   "outputs": [
    {
     "data": {
      "text/plain": [
       "Text(0.5, 0, 'MSE')"
      ]
     },
     "execution_count": 12,
     "metadata": {},
     "output_type": "execute_result"
    },
    {
     "data": {
      "image/png": "[encoded data removed]",
      "text/plain": [
       "<Figure size 1000x400 with 1 Axes>"
      ]
     },
     "metadata": {},
     "output_type": "display_data"
    }
   ],
   "source": [
    "plt.figure(figsize=(10,4), dpi=100).set_facecolor('white')\n",
    "plt.plot(losses)\n",
    "# plt.title('M')\n",
    "plt.xlabel('Epochs')\n",
    "plt.xlabel('MSE')"
   ]
  },
  {
   "cell_type": "code",
   "execution_count": 13,
   "metadata": {},
   "outputs": [
    {
     "data": {
      "text/plain": [
       "[<matplotlib.lines.Line2D at 0x11be0b6d8>]"
      ]
     },
     "execution_count": 13,
     "metadata": {},
     "output_type": "execute_result"
    },
    {
     "data": {
      "image/png": "[encoded data removed]",
      "text/plain": [
       "<Figure size 432x288 with 1 Axes>"
      ]
     },
     "metadata": {
      "needs_background": "light"
     },
     "output_type": "display_data"
    }
   ],
   "source": [
    "plt.plot([i[0] for i in params_snapshot])"
   ]
  },
  {
   "cell_type": "code",
   "execution_count": 14,
   "metadata": {},
   "outputs": [
    {
     "data": {
      "text/plain": [
       "[<matplotlib.lines.Line2D at 0x11bee8278>]"
      ]
     },
     "execution_count": 14,
     "metadata": {},
     "output_type": "execute_result"
    },
    {
     "data": {
      "image/png": "[encoded data removed]",
      "text/plain": [
       "<Figure size 432x288 with 1 Axes>"
      ]
     },
     "metadata": {
      "needs_background": "light"
     },
     "output_type": "display_data"
    }
   ],
   "source": [
    "plt.plot([i[1] for i in params_snapshot])"
   ]
  },
  {
   "cell_type": "code",
   "execution_count": 15,
   "metadata": {},
   "outputs": [],
   "source": [
    "# fig, axs = plt.subplots(nrows=1, ncols=3, figsize=(12, 6))\n",
    "# fig.suptitle(\"Cross-sections of the Posterior Distribution\", fontsize=16)\n",
    "# sns.kdeplot(svi_mvn_samples[\"bA\"], svi_mvn_samples[\"bR\"], ax=axs[0], shade=True, label=\"sensoe1\")\n",
    "# axs[0].set(xlabel=\"bA\", ylabel=\"bR\", xlim=(-2.5, -1.2), ylim=(-0.5, 0.1))\n",
    "# sns.kdeplot(svi_mvn_samples[\"bR\"], svi_mvn_samples[\"bAR\"], ax=axs[1], shade=True, label=\"sensor2\")\n",
    "# axs[1].set(xlabel=\"bR\", ylabel=\"bAR\", xlim=(-0.45, 0.05), ylim=(-0.15, 0.8))\n",
    "# handles, labels = axs[1].get_legend_handles_labels()\n",
    "# fig.legend(handles, labels, loc='upper right');"
   ]
  }
 ],
 "metadata": {
  "anaconda-cloud": {},
  "kernelspec": {
   "display_name": "Python 3",
   "language": "python",
   "name": "python3"
  },
  "language_info": {
   "codemirror_mode": {
    "name": "ipython",
    "version": 3
   },
   "file_extension": ".py",
   "mimetype": "text/x-python",
   "name": "python",
   "nbconvert_exporter": "python",
   "pygments_lexer": "ipython3",
   "version": "3.6.9"
  }
 },
 "nbformat": 4,
 "nbformat_minor": 2
}
